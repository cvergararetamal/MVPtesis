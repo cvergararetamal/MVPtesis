{
  "nbformat": 4,
  "nbformat_minor": 0,
  "metadata": {
    "colab": {
      "provenance": []
    },
    "kernelspec": {
      "name": "python3",
      "display_name": "Python 3"
    },
    "language_info": {
      "name": "python"
    }
  },
  "cells": [
    {
      "cell_type": "code",
      "execution_count": null,
      "metadata": {
        "id": "h57F1lDn8fyG"
      },
      "outputs": [],
      "source": [
        "import pandas as pd \n",
        "import numpy as np \n",
        "import matplotlib.pyplot as plt \n",
        "import seaborn as sns\n",
        "import scipy.stats as stats \n",
        "import warnings \n",
        "warnings.filterwarnings('ignore')\n",
        "\n",
        "from sklearn.preprocessing import StandardScaler\n",
        "from sklearn.preprocessing import LabelEncoder\n",
        "\n",
        "from sklearn.tree import DecisionTreeClassifier\n",
        "from sklearn.ensemble import RandomForestClassifier\n",
        "from sklearn.naive_bayes import GaussianNB\n",
        "from sklearn.neighbors import KNeighborsClassifier\n",
        "from sklearn.svm import SVC\n",
        "from sklearn.neural_network import MLPClassifier\n",
        "from sklearn.ensemble import AdaBoostClassifier\n",
        "from sklearn.ensemble import GradientBoostingClassifier\n",
        "from sklearn.ensemble import ExtraTreesClassifier\n",
        "from sklearn.linear_model import LogisticRegression\n",
        "from sklearn.discriminant_analysis import LinearDiscriminantAnalysis as LDA\n",
        "from sklearn.model_selection import train_test_split\n",
        "from sklearn.metrics import accuracy_score\n",
        "from xgboost import XGBClassifier\n",
        "from sklearn import metrics\n",
        "from sklearn.metrics import roc_curve, roc_auc_score\n",
        "from sklearn.metrics import recall_score, confusion_matrix, precision_score, f1_score, accuracy_score, classification_report\n",
        "from sklearn.metrics import precision_recall_fscore_support as score\n",
        "from collections import Counter\n",
        "from imblearn.under_sampling import RandomUnderSampler\n",
        "from imblearn.over_sampling import SMOTE\n",
        "from imblearn.pipeline import Pipeline\n",
        "\n",
        "from sklearn.model_selection import RandomizedSearchCV, GridSearchCV\n",
        "from sklearn.decomposition import PCA"
      ]
    },
    {
      "cell_type": "code",
      "source": [
        "data = pd.read_csv(\"/content/drive/MyDrive/Proyecto Innovación 1/Metodología/Datos/df_kmeans_cluster.csv\")"
      ],
      "metadata": {
        "id": "Xt3cD5Rq81q2"
      },
      "execution_count": null,
      "outputs": []
    },
    {
      "cell_type": "code",
      "source": [
        "data.sample(3)"
      ],
      "metadata": {
        "colab": {
          "base_uri": "https://localhost:8080/",
          "height": 259
        },
        "id": "rqhYyM9_--Wu",
        "outputId": "c0cb465b-8681-4046-955b-dbc9b405e3b4"
      },
      "execution_count": null,
      "outputs": [
        {
          "output_type": "execute_result",
          "data": {
            "text/plain": [
              "           RUT  montoTotal  cantidadTransacciones  comisionNeta  comisionIVA  \\\n",
              "904  771500870    205100.0                    5.0        2399.0        456.0   \n",
              "899  771245668   2102300.0                  448.0       27377.0       5208.0   \n",
              "23   104375472  41067210.0                 4310.0      537044.0     102106.0   \n",
              "\n",
              "     porcentajeComision    codSII                         MCC  debito  \\\n",
              "904                1.17  463019.0  OTRAS TIENDAS DE ALIMENTOS     1.0   \n",
              "899                1.70  472101.0               SUPERMERCADOS     3.0   \n",
              "23                 1.90  477203.0                 PERFUMERIAS     5.0   \n",
              "\n",
              "     credito  has_hes   planTUU fechaCompra  compra_inicio  compra_fin  \\\n",
              "904      0.0      0.0  Plan Tuu  2022-05-23            0.0         1.0   \n",
              "899      2.0      0.0    Simple  2020-11-26           11.0        17.0   \n",
              "23       5.0      1.0  Plan Tuu  2021-01-14           25.0        42.0   \n",
              "\n",
              "     certifDuration  timeasclient_compra  timeasclient_certificado  \\\n",
              "904             1.0                  9.0                       9.0   \n",
              "899             6.0                552.0                     552.0   \n",
              "23             17.0                503.0                     503.0   \n",
              "\n",
              "                         time  cluster_km  \n",
              "904   86 days 02:43:51.426851           2  \n",
              "899  629 days 02:43:51.426851           4  \n",
              "23   580 days 02:43:51.426851           5  "
            ],
            "text/html": [
              "\n",
              "  <div id=\"df-dba1230f-e386-4736-bbb6-1ce1239ed15b\">\n",
              "    <div class=\"colab-df-container\">\n",
              "      <div>\n",
              "<style scoped>\n",
              "    .dataframe tbody tr th:only-of-type {\n",
              "        vertical-align: middle;\n",
              "    }\n",
              "\n",
              "    .dataframe tbody tr th {\n",
              "        vertical-align: top;\n",
              "    }\n",
              "\n",
              "    .dataframe thead th {\n",
              "        text-align: right;\n",
              "    }\n",
              "</style>\n",
              "<table border=\"1\" class=\"dataframe\">\n",
              "  <thead>\n",
              "    <tr style=\"text-align: right;\">\n",
              "      <th></th>\n",
              "      <th>RUT</th>\n",
              "      <th>montoTotal</th>\n",
              "      <th>cantidadTransacciones</th>\n",
              "      <th>comisionNeta</th>\n",
              "      <th>comisionIVA</th>\n",
              "      <th>porcentajeComision</th>\n",
              "      <th>codSII</th>\n",
              "      <th>MCC</th>\n",
              "      <th>debito</th>\n",
              "      <th>credito</th>\n",
              "      <th>has_hes</th>\n",
              "      <th>planTUU</th>\n",
              "      <th>fechaCompra</th>\n",
              "      <th>compra_inicio</th>\n",
              "      <th>compra_fin</th>\n",
              "      <th>certifDuration</th>\n",
              "      <th>timeasclient_compra</th>\n",
              "      <th>timeasclient_certificado</th>\n",
              "      <th>time</th>\n",
              "      <th>cluster_km</th>\n",
              "    </tr>\n",
              "  </thead>\n",
              "  <tbody>\n",
              "    <tr>\n",
              "      <th>904</th>\n",
              "      <td>771500870</td>\n",
              "      <td>205100.0</td>\n",
              "      <td>5.0</td>\n",
              "      <td>2399.0</td>\n",
              "      <td>456.0</td>\n",
              "      <td>1.17</td>\n",
              "      <td>463019.0</td>\n",
              "      <td>OTRAS TIENDAS DE ALIMENTOS</td>\n",
              "      <td>1.0</td>\n",
              "      <td>0.0</td>\n",
              "      <td>0.0</td>\n",
              "      <td>Plan Tuu</td>\n",
              "      <td>2022-05-23</td>\n",
              "      <td>0.0</td>\n",
              "      <td>1.0</td>\n",
              "      <td>1.0</td>\n",
              "      <td>9.0</td>\n",
              "      <td>9.0</td>\n",
              "      <td>86 days 02:43:51.426851</td>\n",
              "      <td>2</td>\n",
              "    </tr>\n",
              "    <tr>\n",
              "      <th>899</th>\n",
              "      <td>771245668</td>\n",
              "      <td>2102300.0</td>\n",
              "      <td>448.0</td>\n",
              "      <td>27377.0</td>\n",
              "      <td>5208.0</td>\n",
              "      <td>1.70</td>\n",
              "      <td>472101.0</td>\n",
              "      <td>SUPERMERCADOS</td>\n",
              "      <td>3.0</td>\n",
              "      <td>2.0</td>\n",
              "      <td>0.0</td>\n",
              "      <td>Simple</td>\n",
              "      <td>2020-11-26</td>\n",
              "      <td>11.0</td>\n",
              "      <td>17.0</td>\n",
              "      <td>6.0</td>\n",
              "      <td>552.0</td>\n",
              "      <td>552.0</td>\n",
              "      <td>629 days 02:43:51.426851</td>\n",
              "      <td>4</td>\n",
              "    </tr>\n",
              "    <tr>\n",
              "      <th>23</th>\n",
              "      <td>104375472</td>\n",
              "      <td>41067210.0</td>\n",
              "      <td>4310.0</td>\n",
              "      <td>537044.0</td>\n",
              "      <td>102106.0</td>\n",
              "      <td>1.90</td>\n",
              "      <td>477203.0</td>\n",
              "      <td>PERFUMERIAS</td>\n",
              "      <td>5.0</td>\n",
              "      <td>5.0</td>\n",
              "      <td>1.0</td>\n",
              "      <td>Plan Tuu</td>\n",
              "      <td>2021-01-14</td>\n",
              "      <td>25.0</td>\n",
              "      <td>42.0</td>\n",
              "      <td>17.0</td>\n",
              "      <td>503.0</td>\n",
              "      <td>503.0</td>\n",
              "      <td>580 days 02:43:51.426851</td>\n",
              "      <td>5</td>\n",
              "    </tr>\n",
              "  </tbody>\n",
              "</table>\n",
              "</div>\n",
              "      <button class=\"colab-df-convert\" onclick=\"convertToInteractive('df-dba1230f-e386-4736-bbb6-1ce1239ed15b')\"\n",
              "              title=\"Convert this dataframe to an interactive table.\"\n",
              "              style=\"display:none;\">\n",
              "        \n",
              "  <svg xmlns=\"http://www.w3.org/2000/svg\" height=\"24px\"viewBox=\"0 0 24 24\"\n",
              "       width=\"24px\">\n",
              "    <path d=\"M0 0h24v24H0V0z\" fill=\"none\"/>\n",
              "    <path d=\"M18.56 5.44l.94 2.06.94-2.06 2.06-.94-2.06-.94-.94-2.06-.94 2.06-2.06.94zm-11 1L8.5 8.5l.94-2.06 2.06-.94-2.06-.94L8.5 2.5l-.94 2.06-2.06.94zm10 10l.94 2.06.94-2.06 2.06-.94-2.06-.94-.94-2.06-.94 2.06-2.06.94z\"/><path d=\"M17.41 7.96l-1.37-1.37c-.4-.4-.92-.59-1.43-.59-.52 0-1.04.2-1.43.59L10.3 9.45l-7.72 7.72c-.78.78-.78 2.05 0 2.83L4 21.41c.39.39.9.59 1.41.59.51 0 1.02-.2 1.41-.59l7.78-7.78 2.81-2.81c.8-.78.8-2.07 0-2.86zM5.41 20L4 18.59l7.72-7.72 1.47 1.35L5.41 20z\"/>\n",
              "  </svg>\n",
              "      </button>\n",
              "      \n",
              "  <style>\n",
              "    .colab-df-container {\n",
              "      display:flex;\n",
              "      flex-wrap:wrap;\n",
              "      gap: 12px;\n",
              "    }\n",
              "\n",
              "    .colab-df-convert {\n",
              "      background-color: #E8F0FE;\n",
              "      border: none;\n",
              "      border-radius: 50%;\n",
              "      cursor: pointer;\n",
              "      display: none;\n",
              "      fill: #1967D2;\n",
              "      height: 32px;\n",
              "      padding: 0 0 0 0;\n",
              "      width: 32px;\n",
              "    }\n",
              "\n",
              "    .colab-df-convert:hover {\n",
              "      background-color: #E2EBFA;\n",
              "      box-shadow: 0px 1px 2px rgba(60, 64, 67, 0.3), 0px 1px 3px 1px rgba(60, 64, 67, 0.15);\n",
              "      fill: #174EA6;\n",
              "    }\n",
              "\n",
              "    [theme=dark] .colab-df-convert {\n",
              "      background-color: #3B4455;\n",
              "      fill: #D2E3FC;\n",
              "    }\n",
              "\n",
              "    [theme=dark] .colab-df-convert:hover {\n",
              "      background-color: #434B5C;\n",
              "      box-shadow: 0px 1px 3px 1px rgba(0, 0, 0, 0.15);\n",
              "      filter: drop-shadow(0px 1px 2px rgba(0, 0, 0, 0.3));\n",
              "      fill: #FFFFFF;\n",
              "    }\n",
              "  </style>\n",
              "\n",
              "      <script>\n",
              "        const buttonEl =\n",
              "          document.querySelector('#df-dba1230f-e386-4736-bbb6-1ce1239ed15b button.colab-df-convert');\n",
              "        buttonEl.style.display =\n",
              "          google.colab.kernel.accessAllowed ? 'block' : 'none';\n",
              "\n",
              "        async function convertToInteractive(key) {\n",
              "          const element = document.querySelector('#df-dba1230f-e386-4736-bbb6-1ce1239ed15b');\n",
              "          const dataTable =\n",
              "            await google.colab.kernel.invokeFunction('convertToInteractive',\n",
              "                                                     [key], {});\n",
              "          if (!dataTable) return;\n",
              "\n",
              "          const docLinkHtml = 'Like what you see? Visit the ' +\n",
              "            '<a target=\"_blank\" href=https://colab.research.google.com/notebooks/data_table.ipynb>data table notebook</a>'\n",
              "            + ' to learn more about interactive tables.';\n",
              "          element.innerHTML = '';\n",
              "          dataTable['output_type'] = 'display_data';\n",
              "          await google.colab.output.renderOutput(dataTable, element);\n",
              "          const docLink = document.createElement('div');\n",
              "          docLink.innerHTML = docLinkHtml;\n",
              "          element.appendChild(docLink);\n",
              "        }\n",
              "      </script>\n",
              "    </div>\n",
              "  </div>\n",
              "  "
            ]
          },
          "metadata": {},
          "execution_count": 3
        }
      ]
    },
    {
      "cell_type": "code",
      "source": [
        "data.info()"
      ],
      "metadata": {
        "colab": {
          "base_uri": "https://localhost:8080/"
        },
        "id": "d2XLVj-H-_We",
        "outputId": "88a07080-dd61-4671-eae3-85ea77873c83"
      },
      "execution_count": null,
      "outputs": [
        {
          "output_type": "stream",
          "name": "stdout",
          "text": [
            "<class 'pandas.core.frame.DataFrame'>\n",
            "RangeIndex: 1690 entries, 0 to 1689\n",
            "Data columns (total 20 columns):\n",
            " #   Column                    Non-Null Count  Dtype  \n",
            "---  ------                    --------------  -----  \n",
            " 0   RUT                       1690 non-null   object \n",
            " 1   montoTotal                1690 non-null   float64\n",
            " 2   cantidadTransacciones     1690 non-null   float64\n",
            " 3   comisionNeta              1690 non-null   float64\n",
            " 4   comisionIVA               1690 non-null   float64\n",
            " 5   porcentajeComision        1690 non-null   float64\n",
            " 6   codSII                    1690 non-null   float64\n",
            " 7   MCC                       1637 non-null   object \n",
            " 8   debito                    1690 non-null   float64\n",
            " 9   credito                   1690 non-null   float64\n",
            " 10  has_hes                   1690 non-null   float64\n",
            " 11  planTUU                   1690 non-null   object \n",
            " 12  fechaCompra               1690 non-null   object \n",
            " 13  compra_inicio             1690 non-null   float64\n",
            " 14  compra_fin                1690 non-null   float64\n",
            " 15  certifDuration            1690 non-null   float64\n",
            " 16  timeasclient_compra       1690 non-null   float64\n",
            " 17  timeasclient_certificado  1690 non-null   float64\n",
            " 18  time                      1690 non-null   object \n",
            " 19  cluster_km                1690 non-null   int64  \n",
            "dtypes: float64(14), int64(1), object(5)\n",
            "memory usage: 264.2+ KB\n"
          ]
        }
      ]
    },
    {
      "cell_type": "code",
      "source": [
        "data.describe()"
      ],
      "metadata": {
        "colab": {
          "base_uri": "https://localhost:8080/",
          "height": 364
        },
        "id": "EduM6Y37_E4u",
        "outputId": "b5d3d122-af95-42a6-f306-329be43ebc29"
      },
      "execution_count": null,
      "outputs": [
        {
          "output_type": "execute_result",
          "data": {
            "text/plain": [
              "         montoTotal  cantidadTransacciones   comisionNeta    comisionIVA  \\\n",
              "count  1.690000e+03            1690.000000    1690.000000    1690.000000   \n",
              "mean   5.324607e+06             537.134911   70927.437278   13479.872781   \n",
              "std    8.406499e+06             894.527291  113156.812249   21502.878352   \n",
              "min    1.000000e+02               1.000000       0.000000       0.000000   \n",
              "25%    4.382500e+05              33.000000    5734.000000    1087.500000   \n",
              "50%    2.125765e+06             174.500000   27220.500000    5183.500000   \n",
              "75%    6.255732e+06             624.250000   85157.250000   16219.250000   \n",
              "max    6.532670e+07            6631.000000  899980.000000  171058.000000   \n",
              "\n",
              "       porcentajeComision         codSII       debito      credito  \\\n",
              "count         1690.000000    1690.000000  1690.000000  1690.000000   \n",
              "mean             1.588757  491408.748521     3.350888     2.258580   \n",
              "std              0.262657  177626.347975     1.884926     1.998223   \n",
              "min              0.130000   11901.000000     0.000000     0.000000   \n",
              "25%              1.340000  472101.000000     2.000000     1.000000   \n",
              "50%              1.660000  472200.000000     3.000000     2.000000   \n",
              "75%              1.790000  522120.000000     5.000000     4.000000   \n",
              "max              2.510000  960909.000000    20.000000    16.000000   \n",
              "\n",
              "           has_hes  compra_inicio   compra_fin  certifDuration  \\\n",
              "count  1690.000000    1690.000000  1690.000000     1690.000000   \n",
              "mean      0.253254       9.715976    25.718343       16.002367   \n",
              "std       0.435004      15.748949    31.371171       25.836806   \n",
              "min       0.000000       0.000000     0.000000        0.000000   \n",
              "25%       0.000000       1.000000     9.000000        4.000000   \n",
              "50%       0.000000       5.000000    16.000000        8.000000   \n",
              "75%       1.000000      12.000000    30.000000       17.000000   \n",
              "max       1.000000     152.000000   529.000000      404.000000   \n",
              "\n",
              "       timeasclient_compra  timeasclient_certificado   cluster_km  \n",
              "count          1690.000000               1690.000000  1690.000000  \n",
              "mean            202.675148                202.675148     2.468639  \n",
              "std             163.904221                163.904221     1.987653  \n",
              "min               5.000000                  5.000000     0.000000  \n",
              "25%              80.250000                 80.250000     1.000000  \n",
              "50%             161.000000                161.000000     2.000000  \n",
              "75%             243.000000                243.000000     4.000000  \n",
              "max             674.000000                674.000000     6.000000  "
            ],
            "text/html": [
              "\n",
              "  <div id=\"df-fcd7cbfd-b85a-4178-ba16-33fba2f08854\">\n",
              "    <div class=\"colab-df-container\">\n",
              "      <div>\n",
              "<style scoped>\n",
              "    .dataframe tbody tr th:only-of-type {\n",
              "        vertical-align: middle;\n",
              "    }\n",
              "\n",
              "    .dataframe tbody tr th {\n",
              "        vertical-align: top;\n",
              "    }\n",
              "\n",
              "    .dataframe thead th {\n",
              "        text-align: right;\n",
              "    }\n",
              "</style>\n",
              "<table border=\"1\" class=\"dataframe\">\n",
              "  <thead>\n",
              "    <tr style=\"text-align: right;\">\n",
              "      <th></th>\n",
              "      <th>montoTotal</th>\n",
              "      <th>cantidadTransacciones</th>\n",
              "      <th>comisionNeta</th>\n",
              "      <th>comisionIVA</th>\n",
              "      <th>porcentajeComision</th>\n",
              "      <th>codSII</th>\n",
              "      <th>debito</th>\n",
              "      <th>credito</th>\n",
              "      <th>has_hes</th>\n",
              "      <th>compra_inicio</th>\n",
              "      <th>compra_fin</th>\n",
              "      <th>certifDuration</th>\n",
              "      <th>timeasclient_compra</th>\n",
              "      <th>timeasclient_certificado</th>\n",
              "      <th>cluster_km</th>\n",
              "    </tr>\n",
              "  </thead>\n",
              "  <tbody>\n",
              "    <tr>\n",
              "      <th>count</th>\n",
              "      <td>1.690000e+03</td>\n",
              "      <td>1690.000000</td>\n",
              "      <td>1690.000000</td>\n",
              "      <td>1690.000000</td>\n",
              "      <td>1690.000000</td>\n",
              "      <td>1690.000000</td>\n",
              "      <td>1690.000000</td>\n",
              "      <td>1690.000000</td>\n",
              "      <td>1690.000000</td>\n",
              "      <td>1690.000000</td>\n",
              "      <td>1690.000000</td>\n",
              "      <td>1690.000000</td>\n",
              "      <td>1690.000000</td>\n",
              "      <td>1690.000000</td>\n",
              "      <td>1690.000000</td>\n",
              "    </tr>\n",
              "    <tr>\n",
              "      <th>mean</th>\n",
              "      <td>5.324607e+06</td>\n",
              "      <td>537.134911</td>\n",
              "      <td>70927.437278</td>\n",
              "      <td>13479.872781</td>\n",
              "      <td>1.588757</td>\n",
              "      <td>491408.748521</td>\n",
              "      <td>3.350888</td>\n",
              "      <td>2.258580</td>\n",
              "      <td>0.253254</td>\n",
              "      <td>9.715976</td>\n",
              "      <td>25.718343</td>\n",
              "      <td>16.002367</td>\n",
              "      <td>202.675148</td>\n",
              "      <td>202.675148</td>\n",
              "      <td>2.468639</td>\n",
              "    </tr>\n",
              "    <tr>\n",
              "      <th>std</th>\n",
              "      <td>8.406499e+06</td>\n",
              "      <td>894.527291</td>\n",
              "      <td>113156.812249</td>\n",
              "      <td>21502.878352</td>\n",
              "      <td>0.262657</td>\n",
              "      <td>177626.347975</td>\n",
              "      <td>1.884926</td>\n",
              "      <td>1.998223</td>\n",
              "      <td>0.435004</td>\n",
              "      <td>15.748949</td>\n",
              "      <td>31.371171</td>\n",
              "      <td>25.836806</td>\n",
              "      <td>163.904221</td>\n",
              "      <td>163.904221</td>\n",
              "      <td>1.987653</td>\n",
              "    </tr>\n",
              "    <tr>\n",
              "      <th>min</th>\n",
              "      <td>1.000000e+02</td>\n",
              "      <td>1.000000</td>\n",
              "      <td>0.000000</td>\n",
              "      <td>0.000000</td>\n",
              "      <td>0.130000</td>\n",
              "      <td>11901.000000</td>\n",
              "      <td>0.000000</td>\n",
              "      <td>0.000000</td>\n",
              "      <td>0.000000</td>\n",
              "      <td>0.000000</td>\n",
              "      <td>0.000000</td>\n",
              "      <td>0.000000</td>\n",
              "      <td>5.000000</td>\n",
              "      <td>5.000000</td>\n",
              "      <td>0.000000</td>\n",
              "    </tr>\n",
              "    <tr>\n",
              "      <th>25%</th>\n",
              "      <td>4.382500e+05</td>\n",
              "      <td>33.000000</td>\n",
              "      <td>5734.000000</td>\n",
              "      <td>1087.500000</td>\n",
              "      <td>1.340000</td>\n",
              "      <td>472101.000000</td>\n",
              "      <td>2.000000</td>\n",
              "      <td>1.000000</td>\n",
              "      <td>0.000000</td>\n",
              "      <td>1.000000</td>\n",
              "      <td>9.000000</td>\n",
              "      <td>4.000000</td>\n",
              "      <td>80.250000</td>\n",
              "      <td>80.250000</td>\n",
              "      <td>1.000000</td>\n",
              "    </tr>\n",
              "    <tr>\n",
              "      <th>50%</th>\n",
              "      <td>2.125765e+06</td>\n",
              "      <td>174.500000</td>\n",
              "      <td>27220.500000</td>\n",
              "      <td>5183.500000</td>\n",
              "      <td>1.660000</td>\n",
              "      <td>472200.000000</td>\n",
              "      <td>3.000000</td>\n",
              "      <td>2.000000</td>\n",
              "      <td>0.000000</td>\n",
              "      <td>5.000000</td>\n",
              "      <td>16.000000</td>\n",
              "      <td>8.000000</td>\n",
              "      <td>161.000000</td>\n",
              "      <td>161.000000</td>\n",
              "      <td>2.000000</td>\n",
              "    </tr>\n",
              "    <tr>\n",
              "      <th>75%</th>\n",
              "      <td>6.255732e+06</td>\n",
              "      <td>624.250000</td>\n",
              "      <td>85157.250000</td>\n",
              "      <td>16219.250000</td>\n",
              "      <td>1.790000</td>\n",
              "      <td>522120.000000</td>\n",
              "      <td>5.000000</td>\n",
              "      <td>4.000000</td>\n",
              "      <td>1.000000</td>\n",
              "      <td>12.000000</td>\n",
              "      <td>30.000000</td>\n",
              "      <td>17.000000</td>\n",
              "      <td>243.000000</td>\n",
              "      <td>243.000000</td>\n",
              "      <td>4.000000</td>\n",
              "    </tr>\n",
              "    <tr>\n",
              "      <th>max</th>\n",
              "      <td>6.532670e+07</td>\n",
              "      <td>6631.000000</td>\n",
              "      <td>899980.000000</td>\n",
              "      <td>171058.000000</td>\n",
              "      <td>2.510000</td>\n",
              "      <td>960909.000000</td>\n",
              "      <td>20.000000</td>\n",
              "      <td>16.000000</td>\n",
              "      <td>1.000000</td>\n",
              "      <td>152.000000</td>\n",
              "      <td>529.000000</td>\n",
              "      <td>404.000000</td>\n",
              "      <td>674.000000</td>\n",
              "      <td>674.000000</td>\n",
              "      <td>6.000000</td>\n",
              "    </tr>\n",
              "  </tbody>\n",
              "</table>\n",
              "</div>\n",
              "      <button class=\"colab-df-convert\" onclick=\"convertToInteractive('df-fcd7cbfd-b85a-4178-ba16-33fba2f08854')\"\n",
              "              title=\"Convert this dataframe to an interactive table.\"\n",
              "              style=\"display:none;\">\n",
              "        \n",
              "  <svg xmlns=\"http://www.w3.org/2000/svg\" height=\"24px\"viewBox=\"0 0 24 24\"\n",
              "       width=\"24px\">\n",
              "    <path d=\"M0 0h24v24H0V0z\" fill=\"none\"/>\n",
              "    <path d=\"M18.56 5.44l.94 2.06.94-2.06 2.06-.94-2.06-.94-.94-2.06-.94 2.06-2.06.94zm-11 1L8.5 8.5l.94-2.06 2.06-.94-2.06-.94L8.5 2.5l-.94 2.06-2.06.94zm10 10l.94 2.06.94-2.06 2.06-.94-2.06-.94-.94-2.06-.94 2.06-2.06.94z\"/><path d=\"M17.41 7.96l-1.37-1.37c-.4-.4-.92-.59-1.43-.59-.52 0-1.04.2-1.43.59L10.3 9.45l-7.72 7.72c-.78.78-.78 2.05 0 2.83L4 21.41c.39.39.9.59 1.41.59.51 0 1.02-.2 1.41-.59l7.78-7.78 2.81-2.81c.8-.78.8-2.07 0-2.86zM5.41 20L4 18.59l7.72-7.72 1.47 1.35L5.41 20z\"/>\n",
              "  </svg>\n",
              "      </button>\n",
              "      \n",
              "  <style>\n",
              "    .colab-df-container {\n",
              "      display:flex;\n",
              "      flex-wrap:wrap;\n",
              "      gap: 12px;\n",
              "    }\n",
              "\n",
              "    .colab-df-convert {\n",
              "      background-color: #E8F0FE;\n",
              "      border: none;\n",
              "      border-radius: 50%;\n",
              "      cursor: pointer;\n",
              "      display: none;\n",
              "      fill: #1967D2;\n",
              "      height: 32px;\n",
              "      padding: 0 0 0 0;\n",
              "      width: 32px;\n",
              "    }\n",
              "\n",
              "    .colab-df-convert:hover {\n",
              "      background-color: #E2EBFA;\n",
              "      box-shadow: 0px 1px 2px rgba(60, 64, 67, 0.3), 0px 1px 3px 1px rgba(60, 64, 67, 0.15);\n",
              "      fill: #174EA6;\n",
              "    }\n",
              "\n",
              "    [theme=dark] .colab-df-convert {\n",
              "      background-color: #3B4455;\n",
              "      fill: #D2E3FC;\n",
              "    }\n",
              "\n",
              "    [theme=dark] .colab-df-convert:hover {\n",
              "      background-color: #434B5C;\n",
              "      box-shadow: 0px 1px 3px 1px rgba(0, 0, 0, 0.15);\n",
              "      filter: drop-shadow(0px 1px 2px rgba(0, 0, 0, 0.3));\n",
              "      fill: #FFFFFF;\n",
              "    }\n",
              "  </style>\n",
              "\n",
              "      <script>\n",
              "        const buttonEl =\n",
              "          document.querySelector('#df-fcd7cbfd-b85a-4178-ba16-33fba2f08854 button.colab-df-convert');\n",
              "        buttonEl.style.display =\n",
              "          google.colab.kernel.accessAllowed ? 'block' : 'none';\n",
              "\n",
              "        async function convertToInteractive(key) {\n",
              "          const element = document.querySelector('#df-fcd7cbfd-b85a-4178-ba16-33fba2f08854');\n",
              "          const dataTable =\n",
              "            await google.colab.kernel.invokeFunction('convertToInteractive',\n",
              "                                                     [key], {});\n",
              "          if (!dataTable) return;\n",
              "\n",
              "          const docLinkHtml = 'Like what you see? Visit the ' +\n",
              "            '<a target=\"_blank\" href=https://colab.research.google.com/notebooks/data_table.ipynb>data table notebook</a>'\n",
              "            + ' to learn more about interactive tables.';\n",
              "          element.innerHTML = '';\n",
              "          dataTable['output_type'] = 'display_data';\n",
              "          await google.colab.output.renderOutput(dataTable, element);\n",
              "          const docLink = document.createElement('div');\n",
              "          docLink.innerHTML = docLinkHtml;\n",
              "          element.appendChild(docLink);\n",
              "        }\n",
              "      </script>\n",
              "    </div>\n",
              "  </div>\n",
              "  "
            ]
          },
          "metadata": {},
          "execution_count": 5
        }
      ]
    },
    {
      "cell_type": "code",
      "source": [
        "data.describe(include = \"object\")"
      ],
      "metadata": {
        "colab": {
          "base_uri": "https://localhost:8080/",
          "height": 175
        },
        "id": "ZseMoO4w_DiI",
        "outputId": "3365fc95-8dd0-4ed6-961d-fff12693f662"
      },
      "execution_count": null,
      "outputs": [
        {
          "output_type": "execute_result",
          "data": {
            "text/plain": [
              "              RUT            MCC   planTUU fechaCompra  \\\n",
              "count        1690           1637      1690        1690   \n",
              "unique       1690             78         4         426   \n",
              "top     10018933K  SUPERMERCADOS  Plan Tuu  2022-01-10   \n",
              "freq            1            353      1651          17   \n",
              "\n",
              "                            time  \n",
              "count                       1690  \n",
              "unique                       426  \n",
              "top     219 days 02:43:51.426851  \n",
              "freq                          17  "
            ],
            "text/html": [
              "\n",
              "  <div id=\"df-c2e86f6d-4286-406e-9bdd-9153dacabfe6\">\n",
              "    <div class=\"colab-df-container\">\n",
              "      <div>\n",
              "<style scoped>\n",
              "    .dataframe tbody tr th:only-of-type {\n",
              "        vertical-align: middle;\n",
              "    }\n",
              "\n",
              "    .dataframe tbody tr th {\n",
              "        vertical-align: top;\n",
              "    }\n",
              "\n",
              "    .dataframe thead th {\n",
              "        text-align: right;\n",
              "    }\n",
              "</style>\n",
              "<table border=\"1\" class=\"dataframe\">\n",
              "  <thead>\n",
              "    <tr style=\"text-align: right;\">\n",
              "      <th></th>\n",
              "      <th>RUT</th>\n",
              "      <th>MCC</th>\n",
              "      <th>planTUU</th>\n",
              "      <th>fechaCompra</th>\n",
              "      <th>time</th>\n",
              "    </tr>\n",
              "  </thead>\n",
              "  <tbody>\n",
              "    <tr>\n",
              "      <th>count</th>\n",
              "      <td>1690</td>\n",
              "      <td>1637</td>\n",
              "      <td>1690</td>\n",
              "      <td>1690</td>\n",
              "      <td>1690</td>\n",
              "    </tr>\n",
              "    <tr>\n",
              "      <th>unique</th>\n",
              "      <td>1690</td>\n",
              "      <td>78</td>\n",
              "      <td>4</td>\n",
              "      <td>426</td>\n",
              "      <td>426</td>\n",
              "    </tr>\n",
              "    <tr>\n",
              "      <th>top</th>\n",
              "      <td>10018933K</td>\n",
              "      <td>SUPERMERCADOS</td>\n",
              "      <td>Plan Tuu</td>\n",
              "      <td>2022-01-10</td>\n",
              "      <td>219 days 02:43:51.426851</td>\n",
              "    </tr>\n",
              "    <tr>\n",
              "      <th>freq</th>\n",
              "      <td>1</td>\n",
              "      <td>353</td>\n",
              "      <td>1651</td>\n",
              "      <td>17</td>\n",
              "      <td>17</td>\n",
              "    </tr>\n",
              "  </tbody>\n",
              "</table>\n",
              "</div>\n",
              "      <button class=\"colab-df-convert\" onclick=\"convertToInteractive('df-c2e86f6d-4286-406e-9bdd-9153dacabfe6')\"\n",
              "              title=\"Convert this dataframe to an interactive table.\"\n",
              "              style=\"display:none;\">\n",
              "        \n",
              "  <svg xmlns=\"http://www.w3.org/2000/svg\" height=\"24px\"viewBox=\"0 0 24 24\"\n",
              "       width=\"24px\">\n",
              "    <path d=\"M0 0h24v24H0V0z\" fill=\"none\"/>\n",
              "    <path d=\"M18.56 5.44l.94 2.06.94-2.06 2.06-.94-2.06-.94-.94-2.06-.94 2.06-2.06.94zm-11 1L8.5 8.5l.94-2.06 2.06-.94-2.06-.94L8.5 2.5l-.94 2.06-2.06.94zm10 10l.94 2.06.94-2.06 2.06-.94-2.06-.94-.94-2.06-.94 2.06-2.06.94z\"/><path d=\"M17.41 7.96l-1.37-1.37c-.4-.4-.92-.59-1.43-.59-.52 0-1.04.2-1.43.59L10.3 9.45l-7.72 7.72c-.78.78-.78 2.05 0 2.83L4 21.41c.39.39.9.59 1.41.59.51 0 1.02-.2 1.41-.59l7.78-7.78 2.81-2.81c.8-.78.8-2.07 0-2.86zM5.41 20L4 18.59l7.72-7.72 1.47 1.35L5.41 20z\"/>\n",
              "  </svg>\n",
              "      </button>\n",
              "      \n",
              "  <style>\n",
              "    .colab-df-container {\n",
              "      display:flex;\n",
              "      flex-wrap:wrap;\n",
              "      gap: 12px;\n",
              "    }\n",
              "\n",
              "    .colab-df-convert {\n",
              "      background-color: #E8F0FE;\n",
              "      border: none;\n",
              "      border-radius: 50%;\n",
              "      cursor: pointer;\n",
              "      display: none;\n",
              "      fill: #1967D2;\n",
              "      height: 32px;\n",
              "      padding: 0 0 0 0;\n",
              "      width: 32px;\n",
              "    }\n",
              "\n",
              "    .colab-df-convert:hover {\n",
              "      background-color: #E2EBFA;\n",
              "      box-shadow: 0px 1px 2px rgba(60, 64, 67, 0.3), 0px 1px 3px 1px rgba(60, 64, 67, 0.15);\n",
              "      fill: #174EA6;\n",
              "    }\n",
              "\n",
              "    [theme=dark] .colab-df-convert {\n",
              "      background-color: #3B4455;\n",
              "      fill: #D2E3FC;\n",
              "    }\n",
              "\n",
              "    [theme=dark] .colab-df-convert:hover {\n",
              "      background-color: #434B5C;\n",
              "      box-shadow: 0px 1px 3px 1px rgba(0, 0, 0, 0.15);\n",
              "      filter: drop-shadow(0px 1px 2px rgba(0, 0, 0, 0.3));\n",
              "      fill: #FFFFFF;\n",
              "    }\n",
              "  </style>\n",
              "\n",
              "      <script>\n",
              "        const buttonEl =\n",
              "          document.querySelector('#df-c2e86f6d-4286-406e-9bdd-9153dacabfe6 button.colab-df-convert');\n",
              "        buttonEl.style.display =\n",
              "          google.colab.kernel.accessAllowed ? 'block' : 'none';\n",
              "\n",
              "        async function convertToInteractive(key) {\n",
              "          const element = document.querySelector('#df-c2e86f6d-4286-406e-9bdd-9153dacabfe6');\n",
              "          const dataTable =\n",
              "            await google.colab.kernel.invokeFunction('convertToInteractive',\n",
              "                                                     [key], {});\n",
              "          if (!dataTable) return;\n",
              "\n",
              "          const docLinkHtml = 'Like what you see? Visit the ' +\n",
              "            '<a target=\"_blank\" href=https://colab.research.google.com/notebooks/data_table.ipynb>data table notebook</a>'\n",
              "            + ' to learn more about interactive tables.';\n",
              "          element.innerHTML = '';\n",
              "          dataTable['output_type'] = 'display_data';\n",
              "          await google.colab.output.renderOutput(dataTable, element);\n",
              "          const docLink = document.createElement('div');\n",
              "          docLink.innerHTML = docLinkHtml;\n",
              "          element.appendChild(docLink);\n",
              "        }\n",
              "      </script>\n",
              "    </div>\n",
              "  </div>\n",
              "  "
            ]
          },
          "metadata": {},
          "execution_count": 6
        }
      ]
    },
    {
      "cell_type": "code",
      "source": [
        "data.cluster_km.value_counts()"
      ],
      "metadata": {
        "colab": {
          "base_uri": "https://localhost:8080/"
        },
        "id": "0PUqKrjz_Vbk",
        "outputId": "8f8e82ca-4d2a-4fed-b6c5-b9f7cac96bbc"
      },
      "execution_count": null,
      "outputs": [
        {
          "output_type": "execute_result",
          "data": {
            "text/plain": [
              "2    598\n",
              "0    420\n",
              "4    266\n",
              "6    242\n",
              "3     82\n",
              "1     49\n",
              "5     33\n",
              "Name: cluster_km, dtype: int64"
            ]
          },
          "metadata": {},
          "execution_count": 7
        }
      ]
    },
    {
      "cell_type": "code",
      "source": [
        "import matplotlib\n",
        "matplotlib.rcParams['figure.figsize'] =[8,8]\n",
        "matplotlib.rcParams.update({'font.size': 15})"
      ],
      "metadata": {
        "id": "CYMWZa2n_s4D"
      },
      "execution_count": null,
      "outputs": []
    },
    {
      "cell_type": "code",
      "source": [
        "data_label = data.copy()"
      ],
      "metadata": {
        "id": "M5uQ3rJlAXJe"
      },
      "execution_count": null,
      "outputs": []
    },
    {
      "cell_type": "code",
      "source": [
        "data_label.info()"
      ],
      "metadata": {
        "colab": {
          "base_uri": "https://localhost:8080/"
        },
        "id": "s93x9QRrA2hT",
        "outputId": "c510df12-e341-4b2e-d016-41126132927e"
      },
      "execution_count": null,
      "outputs": [
        {
          "output_type": "stream",
          "name": "stdout",
          "text": [
            "<class 'pandas.core.frame.DataFrame'>\n",
            "RangeIndex: 1690 entries, 0 to 1689\n",
            "Data columns (total 20 columns):\n",
            " #   Column                    Non-Null Count  Dtype  \n",
            "---  ------                    --------------  -----  \n",
            " 0   RUT                       1690 non-null   object \n",
            " 1   montoTotal                1690 non-null   float64\n",
            " 2   cantidadTransacciones     1690 non-null   float64\n",
            " 3   comisionNeta              1690 non-null   float64\n",
            " 4   comisionIVA               1690 non-null   float64\n",
            " 5   porcentajeComision        1690 non-null   float64\n",
            " 6   codSII                    1690 non-null   float64\n",
            " 7   MCC                       1637 non-null   object \n",
            " 8   debito                    1690 non-null   float64\n",
            " 9   credito                   1690 non-null   float64\n",
            " 10  has_hes                   1690 non-null   float64\n",
            " 11  planTUU                   1690 non-null   object \n",
            " 12  fechaCompra               1690 non-null   object \n",
            " 13  compra_inicio             1690 non-null   float64\n",
            " 14  compra_fin                1690 non-null   float64\n",
            " 15  certifDuration            1690 non-null   float64\n",
            " 16  timeasclient_compra       1690 non-null   float64\n",
            " 17  timeasclient_certificado  1690 non-null   float64\n",
            " 18  time                      1690 non-null   object \n",
            " 19  cluster_km                1690 non-null   int64  \n",
            "dtypes: float64(14), int64(1), object(5)\n",
            "memory usage: 264.2+ KB\n"
          ]
        }
      ]
    },
    {
      "cell_type": "code",
      "source": [
        "data_label[\"cluster_km\"] = data_label[\"cluster_km\"].apply(str)"
      ],
      "metadata": {
        "id": "Mh-gO41KCfqr"
      },
      "execution_count": null,
      "outputs": []
    },
    {
      "cell_type": "code",
      "source": [
        "data_label[\"cluster_km\"] = data_label[\"cluster_km\"].str.replace(\"0\",\"Cluster 0\")\n",
        "data_label[\"cluster_km\"] = data_label[\"cluster_km\"].str.replace(\"1\",\"Cluster 1\")\n",
        "data_label[\"cluster_km\"] = data_label[\"cluster_km\"].str.replace(\"2\",\"Cluster 2\")\n",
        "data_label[\"cluster_km\"] = data_label[\"cluster_km\"].str.replace(\"3\",\"Cluster 3\")\n",
        "data_label[\"cluster_km\"] = data_label[\"cluster_km\"].str.replace(\"4\",\"Cluster 4\")\n",
        "data_label[\"cluster_km\"] = data_label[\"cluster_km\"].str.replace(\"5\",\"Cluster 5\")\n",
        "data_label[\"cluster_km\"] = data_label[\"cluster_km\"].str.replace(\"6\",\"Cluster 6\")"
      ],
      "metadata": {
        "id": "FNwC18EVCzcX"
      },
      "execution_count": null,
      "outputs": []
    },
    {
      "cell_type": "code",
      "source": [
        "data_label['cluster_km'].value_counts().plot.pie(explode = [0.1,0.1,0.1,0.1,0.1,0.1,0.1], autopct = \"%1.1f%%\", shadow=True, figsize=(10,8))\n",
        "plt.show()"
      ],
      "metadata": {
        "colab": {
          "base_uri": "https://localhost:8080/",
          "height": 466
        },
        "id": "j7YqrxXr_nOv",
        "outputId": "f7fa41fe-19a9-49f6-9830-f0b90410a430"
      },
      "execution_count": null,
      "outputs": [
        {
          "output_type": "display_data",
          "data": {
            "text/plain": [
              "<Figure size 720x576 with 1 Axes>"
            ],
            "image/png": "[encoded data removed]"
          },
          "metadata": {}
        }
      ]
    },
    {
      "cell_type": "code",
      "source": [
        "def Binarizer(df, col):\n",
        "    dummy = pd.get_dummies(df[col].str.get_dummies(sep=','), drop_first=True)\n",
        "    df = df.drop(col, axis = 1) \n",
        "    df = pd.concat([df, dummy], axis=1)\n",
        "    return df"
      ],
      "metadata": {
        "id": "2ciqNlzY5NmH"
      },
      "execution_count": null,
      "outputs": []
    },
    {
      "cell_type": "markdown",
      "source": [
        "### División de la muestra : Conjunto entrenamiento y conjunto de pruebas"
      ],
      "metadata": {
        "id": "BSWPqITAip6p"
      }
    },
    {
      "cell_type": "code",
      "source": [
        "data_label = Binarizer(data_label, \"MCC\")\n",
        "data_label = Binarizer(data_label, \"planTUU\")"
      ],
      "metadata": {
        "id": "O4-TSRlV7HJA"
      },
      "execution_count": null,
      "outputs": []
    },
    {
      "cell_type": "code",
      "source": [
        "data_label.drop(columns = [\"RUT\", \"fechaCompra\", \"time\"], inplace = True)"
      ],
      "metadata": {
        "id": "bAOZowGizjcD"
      },
      "execution_count": null,
      "outputs": []
    },
    {
      "cell_type": "code",
      "source": [
        "X = data_label.drop(columns='cluster_km')\n",
        "y = data_label['cluster_km']\n",
        "X_train, X_test, y_train, y_test = train_test_split(X, y, test_size = 0.33, random_state = 1232)"
      ],
      "metadata": {
        "id": "6nxm80pmVL97"
      },
      "execution_count": null,
      "outputs": []
    },
    {
      "cell_type": "code",
      "source": [
        "num_cols = data_label.drop(columns = \"cluster_km\").select_dtypes([np.number]).columns\n",
        "df_std = pd.DataFrame(StandardScaler().fit_transform(data_label[num_cols].astype('float64')),columns=num_cols)"
      ],
      "metadata": {
        "id": "gezXdcpQapVj"
      },
      "execution_count": null,
      "outputs": []
    },
    {
      "cell_type": "code",
      "source": [
        "scaler= StandardScaler()\n",
        "X_train[num_cols] = scaler.fit_transform(X_train[num_cols])\n",
        "X_test[num_cols] = scaler.transform(X_test[num_cols])"
      ],
      "metadata": {
        "id": "D7sGnLZibRtl"
      },
      "execution_count": null,
      "outputs": []
    },
    {
      "cell_type": "markdown",
      "source": [
        "## **Modelamiento Vanila**\n"
      ],
      "metadata": {
        "id": "nAtjMtsFKmFE"
      }
    },
    {
      "cell_type": "markdown",
      "source": [
        "### **Logistic Regression**\n",
        "\n",
        "\n"
      ],
      "metadata": {
        "id": "hXhRfSV9h8IE"
      }
    },
    {
      "cell_type": "code",
      "source": [
        "model_lr = LogisticRegression(random_state=1234)\n",
        "model_lr.fit(X_train,y_train)\n",
        "acc_logreg = model_lr.score(X_test,y_test)\n",
        "print(\"Accuracy :\",acc_logreg)"
      ],
      "metadata": {
        "id": "lYxuLYwUh7dI",
        "colab": {
          "base_uri": "https://localhost:8080/"
        },
        "outputId": "cdfe76c1-d822-45e5-904c-9d40e4a4be43"
      },
      "execution_count": null,
      "outputs": [
        {
          "output_type": "stream",
          "name": "stdout",
          "text": [
            "Accuracy : 0.9068100358422939\n"
          ]
        }
      ]
    },
    {
      "cell_type": "code",
      "source": [
        "y_hat_lr= model_lr.predict(X_test)\n",
        "lr_precision = precision_score(y_test, y_hat_lr, average=\"micro\")\n",
        "lr_recall = recall_score(y_test, y_hat_lr, average = \"micro\") \n",
        "lr_f1 = f1_score(y_test, y_hat_lr, average = \"micro\")\n",
        "#lr_roc = roc_auc_score(y_test, y_hat_lr)\n",
        "print(\"Precision : \", lr_precision, \"\\nRecall : \", lr_recall, \"\\nF1-Score : \", lr_f1)"
      ],
      "metadata": {
        "id": "UQfB7kc5jVlL",
        "colab": {
          "base_uri": "https://localhost:8080/"
        },
        "outputId": "33c5a69e-140f-4b86-e752-3c241d76131b"
      },
      "execution_count": null,
      "outputs": [
        {
          "output_type": "stream",
          "name": "stdout",
          "text": [
            "Precision :  0.9068100358422939 \n",
            "Recall :  0.9068100358422939 \n",
            "F1-Score :  0.9068100358422939\n"
          ]
        }
      ]
    },
    {
      "cell_type": "code",
      "source": [
        "print(classification_report(y_test,y_hat_lr))"
      ],
      "metadata": {
        "id": "f-b-dhmjjlop",
        "colab": {
          "base_uri": "https://localhost:8080/"
        },
        "outputId": "a3c850a7-745e-41e4-927e-237a1c53820e"
      },
      "execution_count": null,
      "outputs": [
        {
          "output_type": "stream",
          "name": "stdout",
          "text": [
            "              precision    recall  f1-score   support\n",
            "\n",
            "   Cluster 0       0.89      0.87      0.88       143\n",
            "   Cluster 1       0.55      0.67      0.60         9\n",
            "   Cluster 2       0.94      0.95      0.95       198\n",
            "   Cluster 3       0.89      0.89      0.89        28\n",
            "   Cluster 4       0.96      0.95      0.95        91\n",
            "   Cluster 5       0.67      1.00      0.80         4\n",
            "   Cluster 6       0.88      0.85      0.86        85\n",
            "\n",
            "    accuracy                           0.91       558\n",
            "   macro avg       0.82      0.88      0.85       558\n",
            "weighted avg       0.91      0.91      0.91       558\n",
            "\n"
          ]
        }
      ]
    },
    {
      "cell_type": "markdown",
      "source": [
        "### **KNN**\n"
      ],
      "metadata": {
        "id": "JjLn2RbrErMm"
      }
    },
    {
      "cell_type": "code",
      "source": [
        "knn_model = KNeighborsClassifier() \n",
        "knn_model.fit(X_train,y_train)\n",
        "knn_predicted_y = knn_model.predict(X_test)\n",
        "accuracy_knn = knn_model.score(X_test,y_test)\n",
        "print(\"KNN accuracy:\",accuracy_knn)"
      ],
      "metadata": {
        "colab": {
          "base_uri": "https://localhost:8080/"
        },
        "id": "OpeWUq1AIWrn",
        "outputId": "c8b1993b-2383-461b-8584-5edcf2d226db"
      },
      "execution_count": null,
      "outputs": [
        {
          "output_type": "stream",
          "name": "stdout",
          "text": [
            "KNN accuracy: 0.6881720430107527\n"
          ]
        }
      ]
    },
    {
      "cell_type": "code",
      "source": [
        "y_hat_knn= knn_model.predict(X_test)\n",
        "knn_precision = precision_score(y_test, y_hat_knn, average=\"micro\")\n",
        "knn_recall = recall_score(y_test, y_hat_knn, average = \"micro\") \n",
        "knn_f1 = f1_score(y_test, y_hat_knn, average = \"micro\")\n",
        "#lr_roc = roc_auc_score(y_test, y_hat_lr)\n",
        "print(\"Precision : \", knn_precision, \"\\nRecall : \", knn_recall, \"\\nF1-Score : \", knn_f1)"
      ],
      "metadata": {
        "colab": {
          "base_uri": "https://localhost:8080/"
        },
        "id": "YnbYT1bZJVs_",
        "outputId": "28283523-4f1e-491a-acd8-47d9f7cd8ba4"
      },
      "execution_count": null,
      "outputs": [
        {
          "output_type": "stream",
          "name": "stdout",
          "text": [
            "Precision :  0.6881720430107527 \n",
            "Recall :  0.6881720430107527 \n",
            "F1-Score :  0.6881720430107527\n"
          ]
        }
      ]
    },
    {
      "cell_type": "code",
      "source": [
        "print(classification_report(y_test,y_hat_knn))"
      ],
      "metadata": {
        "colab": {
          "base_uri": "https://localhost:8080/"
        },
        "id": "DjNfkaO4JYOu",
        "outputId": "94cdb05b-8297-4aad-ecb7-378fae912068"
      },
      "execution_count": null,
      "outputs": [
        {
          "output_type": "stream",
          "name": "stdout",
          "text": [
            "              precision    recall  f1-score   support\n",
            "\n",
            "   Cluster 0       0.59      0.60      0.60       143\n",
            "   Cluster 1       0.40      0.22      0.29         9\n",
            "   Cluster 2       0.70      0.86      0.77       198\n",
            "   Cluster 3       0.76      0.57      0.65        28\n",
            "   Cluster 4       0.83      0.77      0.80        91\n",
            "   Cluster 5       0.38      0.75      0.50         4\n",
            "   Cluster 6       0.72      0.42      0.53        85\n",
            "\n",
            "    accuracy                           0.69       558\n",
            "   macro avg       0.63      0.60      0.59       558\n",
            "weighted avg       0.69      0.69      0.68       558\n",
            "\n"
          ]
        }
      ]
    },
    {
      "cell_type": "markdown",
      "source": [
        "### **Support Vector Classification**"
      ],
      "metadata": {
        "id": "GCKbSLU2fcFa"
      }
    },
    {
      "cell_type": "code",
      "source": [
        "svc_model = SVC(random_state = 1232)\n",
        "svc_model.fit(X_train,y_train)\n",
        "svc_predict_y = svc_model.predict(X_test)\n",
        "accuracy_svc = svc_model.score(X_test,y_test)\n",
        "print(\"Accuracy :\",accuracy_svc)"
      ],
      "metadata": {
        "id": "V-k94jByfaml",
        "colab": {
          "base_uri": "https://localhost:8080/"
        },
        "outputId": "5967f2b3-f115-43f3-ce5e-2034ae03b786"
      },
      "execution_count": null,
      "outputs": [
        {
          "output_type": "stream",
          "name": "stdout",
          "text": [
            "Accuracy : 0.7903225806451613\n"
          ]
        }
      ]
    },
    {
      "cell_type": "code",
      "source": [
        "y_hat_svc= svc_model.predict(X_test)\n",
        "svc_precision = precision_score(y_test, y_hat_svc, average=\"micro\")\n",
        "svc_recall = recall_score(y_test, y_hat_svc, average = \"micro\") \n",
        "svc_f1 = f1_score(y_test, y_hat_svc, average = \"micro\")\n",
        "#lr_roc = roc_auc_score(y_test, y_hat_lr)\n",
        "print(\"Precision : \", svc_precision, \"\\nRecall : \", svc_recall, \"\\nF1-Score : \", svc_f1)"
      ],
      "metadata": {
        "colab": {
          "base_uri": "https://localhost:8080/"
        },
        "id": "aXaB7GdIKixo",
        "outputId": "1f5dc0a1-d24f-46ad-b3c5-d34a9db3e125"
      },
      "execution_count": null,
      "outputs": [
        {
          "output_type": "stream",
          "name": "stdout",
          "text": [
            "Precision :  0.7903225806451613 \n",
            "Recall :  0.7903225806451613 \n",
            "F1-Score :  0.7903225806451614\n"
          ]
        }
      ]
    },
    {
      "cell_type": "code",
      "source": [
        "print(classification_report(y_test,y_hat_svc))"
      ],
      "metadata": {
        "colab": {
          "base_uri": "https://localhost:8080/"
        },
        "id": "fHFatE3rM7tE",
        "outputId": "5b3603be-0c0e-4f10-cd47-c830655aa8c3"
      },
      "execution_count": null,
      "outputs": [
        {
          "output_type": "stream",
          "name": "stdout",
          "text": [
            "              precision    recall  f1-score   support\n",
            "\n",
            "   Cluster 0       0.76      0.77      0.76       143\n",
            "   Cluster 1       1.00      0.44      0.62         9\n",
            "   Cluster 2       0.76      0.91      0.83       198\n",
            "   Cluster 3       1.00      0.64      0.78        28\n",
            "   Cluster 4       0.87      0.82      0.85        91\n",
            "   Cluster 5       0.80      1.00      0.89         4\n",
            "   Cluster 6       0.79      0.58      0.67        85\n",
            "\n",
            "    accuracy                           0.79       558\n",
            "   macro avg       0.85      0.74      0.77       558\n",
            "weighted avg       0.80      0.79      0.79       558\n",
            "\n"
          ]
        }
      ]
    },
    {
      "cell_type": "markdown",
      "source": [
        "### **Decision Tree Classifier**"
      ],
      "metadata": {
        "id": "Ep7cAhgYh2cj"
      }
    },
    {
      "cell_type": "code",
      "source": [
        "dt_model = DecisionTreeClassifier(random_state=1232)\n",
        "dt_model.fit(X_train, y_train)\n",
        "dt_predicted_y = dt_model.predict(X_test)\n",
        "dt_accuracy = dt_model.score(X_test, y_test)\n",
        "print(\"Decision Tree model accuracy :\", dt_accuracy)"
      ],
      "metadata": {
        "id": "IonnljDviIjq",
        "colab": {
          "base_uri": "https://localhost:8080/"
        },
        "outputId": "ccea6cba-2f9c-4943-b68c-b472e0ad9b31"
      },
      "execution_count": null,
      "outputs": [
        {
          "output_type": "stream",
          "name": "stdout",
          "text": [
            "Decision Tree model accuracy : 0.9551971326164874\n"
          ]
        }
      ]
    },
    {
      "cell_type": "code",
      "source": [
        "y_hat_dt= dt_model.predict(X_test)\n",
        "dt_precision = precision_score(y_test, y_hat_dt, average=\"micro\")\n",
        "dt_recall = recall_score(y_test, y_hat_dt, average = \"micro\") \n",
        "dt_f1 = f1_score(y_test, y_hat_dt, average = \"micro\")\n",
        "#lr_roc = roc_auc_score(y_test, y_hat_lr)\n",
        "print(\"Precision : \", dt_precision, \"\\nRecall : \", dt_recall, \"\\nF1-Score : \", dt_f1)"
      ],
      "metadata": {
        "id": "V5fwDAXViKfN",
        "colab": {
          "base_uri": "https://localhost:8080/"
        },
        "outputId": "c3ccf94f-b0e9-49c1-deb1-2333578fd50d"
      },
      "execution_count": null,
      "outputs": [
        {
          "output_type": "stream",
          "name": "stdout",
          "text": [
            "Precision :  0.9551971326164874 \n",
            "Recall :  0.9551971326164874 \n",
            "F1-Score :  0.9551971326164874\n"
          ]
        }
      ]
    },
    {
      "cell_type": "code",
      "source": [
        "print(classification_report(y_test,y_hat_dt))"
      ],
      "metadata": {
        "colab": {
          "base_uri": "https://localhost:8080/"
        },
        "id": "zHv2EraDXBDF",
        "outputId": "0948522e-cf66-4eae-e10c-a78c65a52675"
      },
      "execution_count": null,
      "outputs": [
        {
          "output_type": "stream",
          "name": "stdout",
          "text": [
            "              precision    recall  f1-score   support\n",
            "\n",
            "   Cluster 0       0.94      0.97      0.95       143\n",
            "   Cluster 1       0.86      0.67      0.75         9\n",
            "   Cluster 2       0.99      0.96      0.98       198\n",
            "   Cluster 3       1.00      0.89      0.94        28\n",
            "   Cluster 4       0.99      0.99      0.99        91\n",
            "   Cluster 5       0.50      1.00      0.67         4\n",
            "   Cluster 6       0.91      0.93      0.92        85\n",
            "\n",
            "    accuracy                           0.96       558\n",
            "   macro avg       0.88      0.92      0.89       558\n",
            "weighted avg       0.96      0.96      0.96       558\n",
            "\n"
          ]
        }
      ]
    },
    {
      "cell_type": "markdown",
      "source": [
        "### **Random Forest**"
      ],
      "metadata": {
        "id": "7fTszH3ahN-T"
      }
    },
    {
      "cell_type": "code",
      "source": [
        "rf_model = RandomForestClassifier(random_state=1232)\n",
        "rf_model.fit(X_train, y_train)\n",
        "rf_accuracy = rf_model.score(X_test, y_test)\n",
        "print(\"Random Forest model accuracy :\", rf_accuracy)"
      ],
      "metadata": {
        "id": "-sg5hd94hNBF",
        "colab": {
          "base_uri": "https://localhost:8080/"
        },
        "outputId": "201f8693-84ca-4bc3-d390-d13e03cd9a41"
      },
      "execution_count": null,
      "outputs": [
        {
          "output_type": "stream",
          "name": "stdout",
          "text": [
            "Random Forest model accuracy : 0.9390681003584229\n"
          ]
        }
      ]
    },
    {
      "cell_type": "code",
      "source": [
        "y_hat_rf= rf_model.predict(X_test)\n",
        "rf_precision = precision_score(y_test, y_hat_rf, average=\"micro\")\n",
        "rf_recall = recall_score(y_test, y_hat_rf, average = \"micro\") \n",
        "rf_f1 = f1_score(y_test, y_hat_rf, average = \"micro\")\n",
        "#lr_roc = roc_auc_score(y_test, y_hat_lr)\n",
        "print(\"Precision : \", rf_precision, \"\\nRecall : \", rf_recall, \"\\nF1-Score : \", rf_f1)"
      ],
      "metadata": {
        "id": "uaUS8Xi3rilr",
        "colab": {
          "base_uri": "https://localhost:8080/"
        },
        "outputId": "d8db4db0-f8e6-4dd2-a69e-dd2163acdc82"
      },
      "execution_count": null,
      "outputs": [
        {
          "output_type": "stream",
          "name": "stdout",
          "text": [
            "Precision :  0.9390681003584229 \n",
            "Recall :  0.9390681003584229 \n",
            "F1-Score :  0.9390681003584229\n"
          ]
        }
      ]
    },
    {
      "cell_type": "code",
      "source": [
        "print(classification_report(y_test,y_hat_rf))"
      ],
      "metadata": {
        "colab": {
          "base_uri": "https://localhost:8080/"
        },
        "id": "KH7KzyrZXHzJ",
        "outputId": "d16884ae-cb82-4506-b9e1-11e181c0ce60"
      },
      "execution_count": null,
      "outputs": [
        {
          "output_type": "stream",
          "name": "stdout",
          "text": [
            "              precision    recall  f1-score   support\n",
            "\n",
            "   Cluster 0       0.95      0.94      0.95       143\n",
            "   Cluster 1       0.88      0.78      0.82         9\n",
            "   Cluster 2       0.96      0.96      0.96       198\n",
            "   Cluster 3       0.95      0.75      0.84        28\n",
            "   Cluster 4       0.99      0.99      0.99        91\n",
            "   Cluster 5       0.50      1.00      0.67         4\n",
            "   Cluster 6       0.85      0.89      0.87        85\n",
            "\n",
            "    accuracy                           0.94       558\n",
            "   macro avg       0.87      0.90      0.87       558\n",
            "weighted avg       0.94      0.94      0.94       558\n",
            "\n"
          ]
        }
      ]
    },
    {
      "cell_type": "markdown",
      "source": [
        "### **AdaBoost Classifier** "
      ],
      "metadata": {
        "id": "5pMPDyj0oj-x"
      }
    },
    {
      "cell_type": "code",
      "source": [
        "adb_model = AdaBoostClassifier(random_state = 1232)\n",
        "adb_model.fit(X_train, y_train)\n",
        "adb_accuracy = adb_model.score(X_test, y_test)\n",
        "print(\"adb model accuracy :\", adb_accuracy)"
      ],
      "metadata": {
        "id": "iWiBUgv-ojbv",
        "colab": {
          "base_uri": "https://localhost:8080/"
        },
        "outputId": "a39e7cd4-323e-499c-a840-4278cf85c87a"
      },
      "execution_count": null,
      "outputs": [
        {
          "output_type": "stream",
          "name": "stdout",
          "text": [
            "adb model accuracy : 0.30824372759856633\n"
          ]
        }
      ]
    },
    {
      "cell_type": "code",
      "source": [
        "y_hat_adb= adb_model.predict(X_test)\n",
        "adb_precision = precision_score(y_test, y_hat_adb, average=\"micro\")\n",
        "adb_recall = recall_score(y_test, y_hat_adb, average = \"micro\") \n",
        "adb_f1 = f1_score(y_test, y_hat_adb, average = \"micro\")\n",
        "#lr_roc = roc_auc_score(y_test, y_hat_lr)\n",
        "print(\"Precision : \", adb_precision, \"\\nRecall : \", adb_recall, \"\\nF1-Score : \", adb_f1)"
      ],
      "metadata": {
        "colab": {
          "base_uri": "https://localhost:8080/"
        },
        "id": "NR-bFFQjDQYE",
        "outputId": "98302940-c00e-4655-f53b-23d055ee070e"
      },
      "execution_count": null,
      "outputs": [
        {
          "output_type": "stream",
          "name": "stdout",
          "text": [
            "Precision :  0.30824372759856633 \n",
            "Recall :  0.30824372759856633 \n",
            "F1-Score :  0.30824372759856633\n"
          ]
        }
      ]
    },
    {
      "cell_type": "code",
      "source": [
        "print(classification_report(y_test,y_hat_adb))"
      ],
      "metadata": {
        "colab": {
          "base_uri": "https://localhost:8080/"
        },
        "id": "hcheYixDXLj9",
        "outputId": "520b52ce-1a5d-46e5-b651-d6e1bab6a705"
      },
      "execution_count": null,
      "outputs": [
        {
          "output_type": "stream",
          "name": "stdout",
          "text": [
            "              precision    recall  f1-score   support\n",
            "\n",
            "   Cluster 0       0.44      0.93      0.60       143\n",
            "   Cluster 1       0.00      0.00      0.00         9\n",
            "   Cluster 2       1.00      0.01      0.01       198\n",
            "   Cluster 3       0.00      0.00      0.00        28\n",
            "   Cluster 4       0.00      0.00      0.00        91\n",
            "   Cluster 5       0.00      0.00      0.00         4\n",
            "   Cluster 6       0.15      0.45      0.22        85\n",
            "\n",
            "    accuracy                           0.31       558\n",
            "   macro avg       0.23      0.20      0.12       558\n",
            "weighted avg       0.49      0.31      0.19       558\n",
            "\n"
          ]
        }
      ]
    },
    {
      "cell_type": "markdown",
      "source": [
        "### **Gradient Boosting Classifier**"
      ],
      "metadata": {
        "id": "CmOCgfIrrbnW"
      }
    },
    {
      "cell_type": "code",
      "source": [
        "gb_model = GradientBoostingClassifier(random_state=1232)\n",
        "gb_model.fit(X_train, y_train)\n",
        "gb_accuracy = gb_model.score(X_test, y_test)\n",
        "print(\" model accuracy :\", gb_accuracy)"
      ],
      "metadata": {
        "id": "fKL4_o52q0_M",
        "colab": {
          "base_uri": "https://localhost:8080/"
        },
        "outputId": "0a271642-91be-493a-866d-bde42f8ecb9f"
      },
      "execution_count": null,
      "outputs": [
        {
          "output_type": "stream",
          "name": "stdout",
          "text": [
            " model accuracy : 0.974910394265233\n"
          ]
        }
      ]
    },
    {
      "cell_type": "code",
      "source": [
        "y_hat_gb= gb_model.predict(X_test)\n",
        "gb_precision = precision_score(y_test, y_hat_gb, average=\"micro\")\n",
        "gb_recall = recall_score(y_test, y_hat_gb, average = \"micro\") \n",
        "gb_f1 = f1_score(y_test, y_hat_gb, average = \"micro\")\n",
        "#lr_roc = roc_auc_score(y_test, y_hat_lr)\n",
        "print(\"Precision : \", gb_precision, \"\\nRecall : \", gb_recall, \"\\nF1-Score : \", gb_f1)"
      ],
      "metadata": {
        "colab": {
          "base_uri": "https://localhost:8080/"
        },
        "id": "gSWoU8uOEkN1",
        "outputId": "12bff02c-4483-4754-f015-d874f4463fc4"
      },
      "execution_count": null,
      "outputs": [
        {
          "output_type": "stream",
          "name": "stdout",
          "text": [
            "Precision :  0.974910394265233 \n",
            "Recall :  0.974910394265233 \n",
            "F1-Score :  0.974910394265233\n"
          ]
        }
      ]
    },
    {
      "cell_type": "code",
      "source": [
        "print(classification_report(y_test,y_hat_gb))"
      ],
      "metadata": {
        "colab": {
          "base_uri": "https://localhost:8080/"
        },
        "id": "YhvYFhK4YvBk",
        "outputId": "4b87f66d-552e-4ca9-8ee2-e3d655235822"
      },
      "execution_count": null,
      "outputs": [
        {
          "output_type": "stream",
          "name": "stdout",
          "text": [
            "              precision    recall  f1-score   support\n",
            "\n",
            "   Cluster 0       0.97      0.96      0.96       143\n",
            "   Cluster 1       0.89      0.89      0.89         9\n",
            "   Cluster 2       0.98      0.99      0.99       198\n",
            "   Cluster 3       0.93      0.96      0.95        28\n",
            "   Cluster 4       0.99      1.00      0.99        91\n",
            "   Cluster 5       1.00      1.00      1.00         4\n",
            "   Cluster 6       0.96      0.95      0.96        85\n",
            "\n",
            "    accuracy                           0.97       558\n",
            "   macro avg       0.96      0.96      0.96       558\n",
            "weighted avg       0.97      0.97      0.97       558\n",
            "\n"
          ]
        }
      ]
    },
    {
      "cell_type": "markdown",
      "source": [
        "### **XGBoost**"
      ],
      "metadata": {
        "id": "Hl4im3T3T-gA"
      }
    },
    {
      "cell_type": "code",
      "source": [
        "xgb_model = XGBClassifier(random_state=1232)\n",
        "xgb_model.fit(X_train, y_train)\n",
        "xgb_accuracy = xgb_model.score(X_test, y_test)\n",
        "print(\" model accuracy :\", xgb_accuracy)"
      ],
      "metadata": {
        "id": "UOfris2Btbb2",
        "colab": {
          "base_uri": "https://localhost:8080/"
        },
        "outputId": "c81b4fc5-39a3-4be2-964c-494598c96543"
      },
      "execution_count": null,
      "outputs": [
        {
          "output_type": "stream",
          "name": "stdout",
          "text": [
            " model accuracy : 0.978494623655914\n"
          ]
        }
      ]
    },
    {
      "cell_type": "code",
      "source": [
        "y_hat_xgb= xgb_model.predict(X_test)\n",
        "xgb_precision = precision_score(y_test, y_hat_xgb, average=\"micro\")\n",
        "xgb_recall = recall_score(y_test, y_hat_xgb, average = \"micro\") \n",
        "xgb_f1 = f1_score(y_test, y_hat_xgb, average = \"micro\")\n",
        "#lr_roc = roc_auc_score(y_test, y_hat_lr)\n",
        "print(\"Precision : \", xgb_precision, \"\\nRecall : \", xgb_recall, \"\\nF1-Score : \", xgb_f1)"
      ],
      "metadata": {
        "colab": {
          "base_uri": "https://localhost:8080/"
        },
        "id": "4Pin3GSSTJD8",
        "outputId": "c1317b42-0a00-428d-a818-3c026cb2583a"
      },
      "execution_count": null,
      "outputs": [
        {
          "output_type": "stream",
          "name": "stdout",
          "text": [
            "Precision :  0.978494623655914 \n",
            "Recall :  0.978494623655914 \n",
            "F1-Score :  0.978494623655914\n"
          ]
        }
      ]
    },
    {
      "cell_type": "code",
      "source": [
        "print(classification_report(y_test,y_hat_xgb))"
      ],
      "metadata": {
        "colab": {
          "base_uri": "https://localhost:8080/"
        },
        "id": "9az7VbS8Y0Ud",
        "outputId": "cb66629c-a5bd-471b-fb3a-f7e476eedcae"
      },
      "execution_count": null,
      "outputs": [
        {
          "output_type": "stream",
          "name": "stdout",
          "text": [
            "              precision    recall  f1-score   support\n",
            "\n",
            "   Cluster 0       0.97      0.97      0.97       143\n",
            "   Cluster 1       1.00      1.00      1.00         9\n",
            "   Cluster 2       0.99      0.98      0.99       198\n",
            "   Cluster 3       0.90      1.00      0.95        28\n",
            "   Cluster 4       1.00      0.99      0.99        91\n",
            "   Cluster 5       1.00      1.00      1.00         4\n",
            "   Cluster 6       0.95      0.95      0.95        85\n",
            "\n",
            "    accuracy                           0.98       558\n",
            "   macro avg       0.97      0.99      0.98       558\n",
            "weighted avg       0.98      0.98      0.98       558\n",
            "\n"
          ]
        }
      ]
    },
    {
      "cell_type": "markdown",
      "source": [
        "## Linear Discriminant Analysis (LDA)"
      ],
      "metadata": {
        "id": "pOBB2upNfMmI"
      }
    },
    {
      "cell_type": "code",
      "source": [
        "lda_model = LDA()\n",
        "lda_model.fit(X_train, y_train)\n",
        "lda_accuracy = lda_model.score(X_test, y_test)\n",
        "print(\" model accuracy :\", lda_accuracy)"
      ],
      "metadata": {
        "id": "rGqoRCC-fTr6",
        "colab": {
          "base_uri": "https://localhost:8080/"
        },
        "outputId": "9a397a3a-a0b0-4e5e-8ccb-2dc855f20485"
      },
      "execution_count": null,
      "outputs": [
        {
          "output_type": "stream",
          "name": "stdout",
          "text": [
            " model accuracy : 0.9068100358422939\n"
          ]
        }
      ]
    },
    {
      "cell_type": "code",
      "source": [
        "y_hat_lda= lda_model.predict(X_test)\n",
        "lda_precision = precision_score(y_test, y_hat_lda, average=\"micro\")\n",
        "lda_recall = recall_score(y_test, y_hat_lda, average = \"micro\") \n",
        "lda_f1 = f1_score(y_test, y_hat_lda, average = \"micro\")\n",
        "#lr_roc = roc_auc_score(y_test, y_hat_lr)\n",
        "print(\"Precision : \", lda_precision, \"\\nRecall : \", lda_recall, \"\\nF1-Score : \", lda_f1)"
      ],
      "metadata": {
        "colab": {
          "base_uri": "https://localhost:8080/"
        },
        "id": "Ome3UGCuY70U",
        "outputId": "beb6b525-dc1e-4542-b3cc-11681c323fee"
      },
      "execution_count": null,
      "outputs": [
        {
          "output_type": "stream",
          "name": "stdout",
          "text": [
            "Precision :  0.9068100358422939 \n",
            "Recall :  0.9068100358422939 \n",
            "F1-Score :  0.9068100358422939\n"
          ]
        }
      ]
    },
    {
      "cell_type": "code",
      "source": [
        "print(classification_report(y_test,y_hat_lda))"
      ],
      "metadata": {
        "colab": {
          "base_uri": "https://localhost:8080/"
        },
        "id": "WpxCFP0VY4X_",
        "outputId": "f349896d-cc60-471d-a45f-964f9545adbb"
      },
      "execution_count": null,
      "outputs": [
        {
          "output_type": "stream",
          "name": "stdout",
          "text": [
            "              precision    recall  f1-score   support\n",
            "\n",
            "   Cluster 0       0.88      0.86      0.87       143\n",
            "   Cluster 1       0.83      0.56      0.67         9\n",
            "   Cluster 2       0.90      0.95      0.92       198\n",
            "   Cluster 3       0.96      0.93      0.95        28\n",
            "   Cluster 4       0.97      0.97      0.97        91\n",
            "   Cluster 5       0.67      1.00      0.80         4\n",
            "   Cluster 6       0.92      0.85      0.88        85\n",
            "\n",
            "    accuracy                           0.91       558\n",
            "   macro avg       0.88      0.87      0.86       558\n",
            "weighted avg       0.91      0.91      0.91       558\n",
            "\n"
          ]
        }
      ]
    },
    {
      "cell_type": "markdown",
      "source": [
        "### Comparativa de modelos"
      ],
      "metadata": {
        "id": "jVwr_OF7FKHE"
      }
    },
    {
      "cell_type": "code",
      "source": [
        "vanila_model = pd.DataFrame(\n",
        "    {\n",
        "        \"Modelo\" : [\"Regresión Logística\", \"KNN\", \"SVC\", \"Decision Tree\", \"Random Forest\", \"adb\", \"Gradient Boost\", \"X Gradient Boost\", \"LDA\"],\n",
        "        \"Accuracy\" : [acc_logreg, accuracy_knn, accuracy_svc, dt_accuracy, rf_accuracy, adb_accuracy, gb_accuracy, xgb_accuracy, lda_accuracy]\n",
        "    }\n",
        ")\n",
        "vanila_model.sort_values(by=\"Accuracy\", ascending = False)"
      ],
      "metadata": {
        "colab": {
          "base_uri": "https://localhost:8080/",
          "height": 332
        },
        "id": "bZr-vp-3FOLP",
        "outputId": "f8560d1a-d596-4e8f-f5ec-304748f1ca18"
      },
      "execution_count": null,
      "outputs": [
        {
          "output_type": "execute_result",
          "data": {
            "text/plain": [
              "                Modelo  Accuracy\n",
              "7     X Gradient Boost  0.978495\n",
              "6       Gradient Boost  0.974910\n",
              "3        Decision Tree  0.955197\n",
              "4        Random Forest  0.939068\n",
              "0  Regresión Logística  0.906810\n",
              "8                  LDA  0.906810\n",
              "2                  SVC  0.790323\n",
              "1                  KNN  0.688172\n",
              "5                  adb  0.308244"
            ],
            "text/html": [
              "\n",
              "  <div id=\"df-d3024c5b-3631-4f94-adb4-6323c0fa82bf\">\n",
              "    <div class=\"colab-df-container\">\n",
              "      <div>\n",
              "<style scoped>\n",
              "    .dataframe tbody tr th:only-of-type {\n",
              "        vertical-align: middle;\n",
              "    }\n",
              "\n",
              "    .dataframe tbody tr th {\n",
              "        vertical-align: top;\n",
              "    }\n",
              "\n",
              "    .dataframe thead th {\n",
              "        text-align: right;\n",
              "    }\n",
              "</style>\n",
              "<table border=\"1\" class=\"dataframe\">\n",
              "  <thead>\n",
              "    <tr style=\"text-align: right;\">\n",
              "      <th></th>\n",
              "      <th>Modelo</th>\n",
              "      <th>Accuracy</th>\n",
              "    </tr>\n",
              "  </thead>\n",
              "  <tbody>\n",
              "    <tr>\n",
              "      <th>7</th>\n",
              "      <td>X Gradient Boost</td>\n",
              "      <td>0.978495</td>\n",
              "    </tr>\n",
              "    <tr>\n",
              "      <th>6</th>\n",
              "      <td>Gradient Boost</td>\n",
              "      <td>0.974910</td>\n",
              "    </tr>\n",
              "    <tr>\n",
              "      <th>3</th>\n",
              "      <td>Decision Tree</td>\n",
              "      <td>0.955197</td>\n",
              "    </tr>\n",
              "    <tr>\n",
              "      <th>4</th>\n",
              "      <td>Random Forest</td>\n",
              "      <td>0.939068</td>\n",
              "    </tr>\n",
              "    <tr>\n",
              "      <th>0</th>\n",
              "      <td>Regresión Logística</td>\n",
              "      <td>0.906810</td>\n",
              "    </tr>\n",
              "    <tr>\n",
              "      <th>8</th>\n",
              "      <td>LDA</td>\n",
              "      <td>0.906810</td>\n",
              "    </tr>\n",
              "    <tr>\n",
              "      <th>2</th>\n",
              "      <td>SVC</td>\n",
              "      <td>0.790323</td>\n",
              "    </tr>\n",
              "    <tr>\n",
              "      <th>1</th>\n",
              "      <td>KNN</td>\n",
              "      <td>0.688172</td>\n",
              "    </tr>\n",
              "    <tr>\n",
              "      <th>5</th>\n",
              "      <td>adb</td>\n",
              "      <td>0.308244</td>\n",
              "    </tr>\n",
              "  </tbody>\n",
              "</table>\n",
              "</div>\n",
              "      <button class=\"colab-df-convert\" onclick=\"convertToInteractive('df-d3024c5b-3631-4f94-adb4-6323c0fa82bf')\"\n",
              "              title=\"Convert this dataframe to an interactive table.\"\n",
              "              style=\"display:none;\">\n",
              "        \n",
              "  <svg xmlns=\"http://www.w3.org/2000/svg\" height=\"24px\"viewBox=\"0 0 24 24\"\n",
              "       width=\"24px\">\n",
              "    <path d=\"M0 0h24v24H0V0z\" fill=\"none\"/>\n",
              "    <path d=\"M18.56 5.44l.94 2.06.94-2.06 2.06-.94-2.06-.94-.94-2.06-.94 2.06-2.06.94zm-11 1L8.5 8.5l.94-2.06 2.06-.94-2.06-.94L8.5 2.5l-.94 2.06-2.06.94zm10 10l.94 2.06.94-2.06 2.06-.94-2.06-.94-.94-2.06-.94 2.06-2.06.94z\"/><path d=\"M17.41 7.96l-1.37-1.37c-.4-.4-.92-.59-1.43-.59-.52 0-1.04.2-1.43.59L10.3 9.45l-7.72 7.72c-.78.78-.78 2.05 0 2.83L4 21.41c.39.39.9.59 1.41.59.51 0 1.02-.2 1.41-.59l7.78-7.78 2.81-2.81c.8-.78.8-2.07 0-2.86zM5.41 20L4 18.59l7.72-7.72 1.47 1.35L5.41 20z\"/>\n",
              "  </svg>\n",
              "      </button>\n",
              "      \n",
              "  <style>\n",
              "    .colab-df-container {\n",
              "      display:flex;\n",
              "      flex-wrap:wrap;\n",
              "      gap: 12px;\n",
              "    }\n",
              "\n",
              "    .colab-df-convert {\n",
              "      background-color: #E8F0FE;\n",
              "      border: none;\n",
              "      border-radius: 50%;\n",
              "      cursor: pointer;\n",
              "      display: none;\n",
              "      fill: #1967D2;\n",
              "      height: 32px;\n",
              "      padding: 0 0 0 0;\n",
              "      width: 32px;\n",
              "    }\n",
              "\n",
              "    .colab-df-convert:hover {\n",
              "      background-color: #E2EBFA;\n",
              "      box-shadow: 0px 1px 2px rgba(60, 64, 67, 0.3), 0px 1px 3px 1px rgba(60, 64, 67, 0.15);\n",
              "      fill: #174EA6;\n",
              "    }\n",
              "\n",
              "    [theme=dark] .colab-df-convert {\n",
              "      background-color: #3B4455;\n",
              "      fill: #D2E3FC;\n",
              "    }\n",
              "\n",
              "    [theme=dark] .colab-df-convert:hover {\n",
              "      background-color: #434B5C;\n",
              "      box-shadow: 0px 1px 3px 1px rgba(0, 0, 0, 0.15);\n",
              "      filter: drop-shadow(0px 1px 2px rgba(0, 0, 0, 0.3));\n",
              "      fill: #FFFFFF;\n",
              "    }\n",
              "  </style>\n",
              "\n",
              "      <script>\n",
              "        const buttonEl =\n",
              "          document.querySelector('#df-d3024c5b-3631-4f94-adb4-6323c0fa82bf button.colab-df-convert');\n",
              "        buttonEl.style.display =\n",
              "          google.colab.kernel.accessAllowed ? 'block' : 'none';\n",
              "\n",
              "        async function convertToInteractive(key) {\n",
              "          const element = document.querySelector('#df-d3024c5b-3631-4f94-adb4-6323c0fa82bf');\n",
              "          const dataTable =\n",
              "            await google.colab.kernel.invokeFunction('convertToInteractive',\n",
              "                                                     [key], {});\n",
              "          if (!dataTable) return;\n",
              "\n",
              "          const docLinkHtml = 'Like what you see? Visit the ' +\n",
              "            '<a target=\"_blank\" href=https://colab.research.google.com/notebooks/data_table.ipynb>data table notebook</a>'\n",
              "            + ' to learn more about interactive tables.';\n",
              "          element.innerHTML = '';\n",
              "          dataTable['output_type'] = 'display_data';\n",
              "          await google.colab.output.renderOutput(dataTable, element);\n",
              "          const docLink = document.createElement('div');\n",
              "          docLink.innerHTML = docLinkHtml;\n",
              "          element.appendChild(docLink);\n",
              "        }\n",
              "      </script>\n",
              "    </div>\n",
              "  </div>\n",
              "  "
            ]
          },
          "metadata": {},
          "execution_count": 48
        }
      ]
    },
    {
      "cell_type": "markdown",
      "source": [
        "### Serialización de modelo"
      ],
      "metadata": {
        "id": "MD9nLVELHcm8"
      }
    },
    {
      "cell_type": "code",
      "source": [
        "import pickle\n",
        "pickle.dump(xgb_model, open(\"xgb_model.sav\", \"wb\"))"
      ],
      "metadata": {
        "id": "G0246clAHb2q"
      },
      "execution_count": null,
      "outputs": []
    },
    {
      "cell_type": "code",
      "source": [],
      "metadata": {
        "id": "rZqmhSs3FElY"
      },
      "execution_count": null,
      "outputs": []
    }
  ]
}